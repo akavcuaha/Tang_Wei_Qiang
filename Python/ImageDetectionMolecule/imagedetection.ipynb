{
 "cells": [
  {
   "cell_type": "code",
   "execution_count": 1,
   "id": "c172ccae",
   "metadata": {},
   "outputs": [
    {
     "name": "stdout",
     "output_type": "stream",
     "text": [
      "Collecting opencv-python\n",
      "  Downloading opencv_python-4.5.3.56-cp38-cp38-win_amd64.whl (34.9 MB)\n",
      "Requirement already satisfied: numpy>=1.17.3 in c:\\users\\user\\anaconda3\\lib\\site-packages (from opencv-python) (1.20.1)\n",
      "Installing collected packages: opencv-python\n",
      "Successfully installed opencv-python-4.5.3.56\n"
     ]
    }
   ],
   "source": [
    "!pip install opencv-python"
   ]
  },
  {
   "cell_type": "code",
   "execution_count": 2,
   "id": "871d6076",
   "metadata": {},
   "outputs": [],
   "source": [
    "import cv2\n",
    "import numpy as np"
   ]
  },
  {
   "cell_type": "code",
   "execution_count": 25,
   "id": "911717b5",
   "metadata": {},
   "outputs": [],
   "source": [
    "macromolecule = cv2.imread('macromolecule.png', cv2.IMREAD_UNCHANGED) #define macromolecule image\n",
    "N = cv2.imread('N.png', cv2.IMREAD_UNCHANGED) #define atom image"
   ]
  },
  {
   "cell_type": "code",
   "execution_count": null,
   "id": "67e0c4b4",
   "metadata": {},
   "outputs": [],
   "source": [
    "cv2.imshow('macromolecule',macromolecule) #show image\n",
    "cv2.waitKey() ##stay up till we hit a key\n",
    "cv2.destroyAllWindows() #prevent freezing"
   ]
  },
  {
   "cell_type": "code",
   "execution_count": 7,
   "id": "16e267fb",
   "metadata": {},
   "outputs": [],
   "source": [
    "cv2.imshow('N',N) #show image\n",
    "cv2.waitKey() ##stay up till we hit a key\n",
    "cv2.destroyAllWindows() #prevent freezing"
   ]
  },
  {
   "cell_type": "code",
   "execution_count": 8,
   "id": "ccbb717d",
   "metadata": {},
   "outputs": [],
   "source": [
    "result = cv2.matchTemplate(macromolecule,N,cv2.TM_CCOEFF_NORMED)"
   ]
  },
  {
   "cell_type": "code",
   "execution_count": 9,
   "id": "5d7e4311",
   "metadata": {},
   "outputs": [],
   "source": [
    "cv2.imshow('Result',result)\n",
    "cv2.waitKey()\n",
    "cv2.destroyAllWindows()"
   ]
  },
  {
   "cell_type": "code",
   "execution_count": 10,
   "id": "6f4090c2",
   "metadata": {},
   "outputs": [],
   "source": [
    "min_val, max_val, min_loc, max_loc =cv2.minMaxLoc(result)"
   ]
  },
  {
   "cell_type": "code",
   "execution_count": 11,
   "id": "4e340a95",
   "metadata": {},
   "outputs": [
    {
     "data": {
      "text/plain": [
       "(356, 1)"
      ]
     },
     "execution_count": 11,
     "metadata": {},
     "output_type": "execute_result"
    }
   ],
   "source": [
    "max_loc"
   ]
  },
  {
   "cell_type": "code",
   "execution_count": 12,
   "id": "9b18803d",
   "metadata": {},
   "outputs": [
    {
     "data": {
      "text/plain": [
       "1.0"
      ]
     },
     "execution_count": 12,
     "metadata": {},
     "output_type": "execute_result"
    }
   ],
   "source": [
    "max_val"
   ]
  },
  {
   "cell_type": "code",
   "execution_count": 13,
   "id": "e3992f7d",
   "metadata": {},
   "outputs": [],
   "source": [
    "w = N.shape[1]\n",
    "h = N.shape[0] #nd to specify top left and btm right point"
   ]
  },
  {
   "cell_type": "code",
   "execution_count": 14,
   "id": "73dc1203",
   "metadata": {},
   "outputs": [
    {
     "data": {
      "text/plain": [
       "array([[[255, 255, 255, 255],\n",
       "        [255, 255, 255, 255],\n",
       "        [255, 255, 255, 255],\n",
       "        ...,\n",
       "        [255, 255, 255, 255],\n",
       "        [255, 255, 255, 255],\n",
       "        [255, 255, 255, 255]],\n",
       "\n",
       "       [[255, 255, 255, 255],\n",
       "        [255, 255, 255, 255],\n",
       "        [255, 255, 255, 255],\n",
       "        ...,\n",
       "        [255, 255, 255, 255],\n",
       "        [255, 255, 255, 255],\n",
       "        [255, 255, 255, 255]],\n",
       "\n",
       "       [[255, 255, 255, 255],\n",
       "        [255, 255, 255, 255],\n",
       "        [255, 255, 255, 255],\n",
       "        ...,\n",
       "        [255, 255, 255, 255],\n",
       "        [255, 255, 255, 255],\n",
       "        [255, 255, 255, 255]],\n",
       "\n",
       "       ...,\n",
       "\n",
       "       [[255, 255, 255, 255],\n",
       "        [255, 255, 255, 255],\n",
       "        [255, 255, 255, 255],\n",
       "        ...,\n",
       "        [255, 255, 255, 255],\n",
       "        [255, 255, 255, 255],\n",
       "        [255, 255, 255, 255]],\n",
       "\n",
       "       [[255, 255, 255, 255],\n",
       "        [255, 255, 255, 255],\n",
       "        [255, 255, 255, 255],\n",
       "        ...,\n",
       "        [255, 255, 255, 255],\n",
       "        [255, 255, 255, 255],\n",
       "        [255, 255, 255, 255]],\n",
       "\n",
       "       [[255, 255, 255, 255],\n",
       "        [255, 255, 255, 255],\n",
       "        [255, 255, 255, 255],\n",
       "        ...,\n",
       "        [255, 255, 255, 255],\n",
       "        [255, 255, 255, 255],\n",
       "        [255, 255, 255, 255]]], dtype=uint8)"
      ]
     },
     "execution_count": 14,
     "metadata": {},
     "output_type": "execute_result"
    }
   ],
   "source": [
    "cv2.rectangle(macromolecule, max_loc, (max_loc[0]+w,max_loc[1]+h),(0,255,255),2)  #draw rectangle ard image"
   ]
  },
  {
   "cell_type": "code",
   "execution_count": 18,
   "id": "cf8f5974",
   "metadata": {},
   "outputs": [],
   "source": [
    "threshold=.80 #setting the threshold"
   ]
  },
  {
   "cell_type": "code",
   "execution_count": 19,
   "id": "e212b6d0",
   "metadata": {},
   "outputs": [],
   "source": [
    "yloc,xloc = np.where(result>=threshold)"
   ]
  },
  {
   "cell_type": "code",
   "execution_count": 20,
   "id": "8c09a45c",
   "metadata": {},
   "outputs": [
    {
     "data": {
      "text/plain": [
       "45"
      ]
     },
     "execution_count": 20,
     "metadata": {},
     "output_type": "execute_result"
    }
   ],
   "source": [
    "len(xloc)"
   ]
  },
  {
   "cell_type": "code",
   "execution_count": 21,
   "id": "da2835e2",
   "metadata": {},
   "outputs": [
    {
     "data": {
      "text/plain": [
       "45"
      ]
     },
     "execution_count": 21,
     "metadata": {},
     "output_type": "execute_result"
    }
   ],
   "source": [
    "len(yloc)"
   ]
  },
  {
   "cell_type": "code",
   "execution_count": 23,
   "id": "4f108886",
   "metadata": {},
   "outputs": [],
   "source": [
    "for (x,y) in zip(xloc,yloc):\n",
    "    cv2.rectangle(macromolecule,(x,y),(x+w,y+h),(0,255,255),2)"
   ]
  },
  {
   "cell_type": "code",
   "execution_count": 26,
   "id": "c0f1715d",
   "metadata": {},
   "outputs": [],
   "source": [
    "#what is a rectangle\n",
    "# x,y,w,h\n",
    "rectangles=[]\n",
    "for(x,y) in zip(xloc,yloc):\n",
    "    rectangles.append([int(x),int(y),int(w),int(h)]) #ensure no overlapping rectangles\n",
    "    rectangles.append([int(x),int(y),int(w),int(h)]) #duplicate rectangle for top to work"
   ]
  },
  {
   "cell_type": "code",
   "execution_count": 27,
   "id": "b09f89f9",
   "metadata": {},
   "outputs": [
    {
     "data": {
      "text/plain": [
       "90"
      ]
     },
     "execution_count": 27,
     "metadata": {},
     "output_type": "execute_result"
    }
   ],
   "source": [
    "len(rectangles) #counting detections"
   ]
  },
  {
   "cell_type": "code",
   "execution_count": 28,
   "id": "d51ea96b",
   "metadata": {},
   "outputs": [],
   "source": [
    "rectangles,weights = cv2.groupRectangles(rectangles,1,0.2) #remove duplicates"
   ]
  },
  {
   "cell_type": "code",
   "execution_count": 29,
   "id": "7a99566f",
   "metadata": {},
   "outputs": [
    {
     "data": {
      "text/plain": [
       "44"
      ]
     },
     "execution_count": 29,
     "metadata": {},
     "output_type": "execute_result"
    }
   ],
   "source": [
    "len(rectangles) #recount detections"
   ]
  },
  {
   "cell_type": "code",
   "execution_count": 30,
   "id": "eaa3b317",
   "metadata": {},
   "outputs": [],
   "source": [
    "for (x,y,w,h) in rectangles:\n",
    "    cv2.rectangle(macromolecule,(x,y),(x+w,y+h),(0,255,255),2)"
   ]
  },
  {
   "cell_type": "code",
   "execution_count": null,
   "id": "5a22c139",
   "metadata": {},
   "outputs": [],
   "source": []
  }
 ],
 "metadata": {
  "kernelspec": {
   "display_name": "Python 3",
   "language": "python",
   "name": "python3"
  },
  "language_info": {
   "codemirror_mode": {
    "name": "ipython",
    "version": 3
   },
   "file_extension": ".py",
   "mimetype": "text/x-python",
   "name": "python",
   "nbconvert_exporter": "python",
   "pygments_lexer": "ipython3",
   "version": "3.8.8"
  }
 },
 "nbformat": 4,
 "nbformat_minor": 5
}
